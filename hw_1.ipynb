{
 "cells": [
  {
   "cell_type": "code",
   "execution_count": 4,
   "metadata": {},
   "outputs": [],
   "source": [
    "import numpy as np\n",
    "import torch"
   ]
  },
  {
   "cell_type": "markdown",
   "metadata": {},
   "source": [
    "1.\tНахождение сложной производной.\n",
    "Найдите производную по x от функции:\n",
    " \n",
    "При этом надо пользоваться встроенным в PyTorch autograd.\n",
    "\n"
   ]
  },
  {
   "cell_type": "code",
   "execution_count": 136,
   "metadata": {},
   "outputs": [],
   "source": [
    "def f(x,y):\n",
    "    c = np.exp(3-x**2)\n",
    "    g = x**2*np.exp(x**9)\n",
    "    m1 = np.tan(x)* x**2/y\n",
    "    m2= np.log(c + x**3*y)\n",
    "    m3 = np.tan(g) \n",
    "    return np.sin(m1+m2)*m3"
   ]
  },
  {
   "cell_type": "code",
   "execution_count": 137,
   "metadata": {},
   "outputs": [
    {
     "data": {
      "text/plain": [
       "0.012011480952420241"
      ]
     },
     "execution_count": 137,
     "metadata": {},
     "output_type": "execute_result"
    }
   ],
   "source": [
    "f(0.5,0.4)"
   ]
  },
  {
   "cell_type": "code",
   "execution_count": 138,
   "metadata": {},
   "outputs": [],
   "source": [
    "def find_x_derivative(x, y):\n",
    "    a=torch.FloatTensor([float(x)])\n",
    "    a.requires_grad = True\n",
    "    b = torch.FloatTensor([float(y)])\n",
    "    c = torch.exp(3-a**2)\n",
    "    g = a**2*torch.exp(a**9)\n",
    "    m1 = torch.tan(a)* a**2/b\n",
    "    m2= torch.log(c + a**3*b)\n",
    "    m3 = torch.tan(g) \n",
    "    L = torch.sin(m1+m2)*m3\n",
    "    L.backward()\n",
    "    return a.grad"
   ]
  },
  {
   "cell_type": "code",
   "execution_count": 139,
   "metadata": {},
   "outputs": [
    {
     "data": {
      "text/plain": [
       "tensor([-0.2560])"
      ]
     },
     "execution_count": 139,
     "metadata": {},
     "output_type": "execute_result"
    }
   ],
   "source": [
    "find_x_derivative(0.5,0.4)"
   ]
  },
  {
   "cell_type": "code",
   "execution_count": null,
   "metadata": {},
   "outputs": [],
   "source": []
  },
  {
   "cell_type": "markdown",
   "metadata": {},
   "source": [
    "\n",
    "2.\tНахождение косинусной близости\n",
    "Вам даны две матрицы A и B. Необходимо посчитать косинусную близость между строчками матрицы A и столбцами матрицы B. Ответ - матрица чисел, где номер строки - номер строки из матрицы А, а номер столбца - номер столбца из В, от которых бралась косинусная близость.\n",
    "Напомним, что косинусная близость двух векторов - косинус угла между ними. В n-мерном пространстве косинус угла между векторами удобнее всего через скалярное произведение:\n"
   ]
  },
  {
   "cell_type": "code",
   "execution_count": 188,
   "metadata": {},
   "outputs": [],
   "source": [
    "A = torch.randint(10,(3,3))\n",
    "B = torch.randint(10,(3,3))"
   ]
  },
  {
   "cell_type": "code",
   "execution_count": 201,
   "metadata": {},
   "outputs": [],
   "source": [
    "def get_cos_sim(A, B):\n",
    "    K = A@B\n",
    "    A1 = A**2\n",
    "    A1 = A1.sum(axis=1)\n",
    "    A1 = A1**(1/2)\n",
    "    B1 = B**2\n",
    "    B1 = B1.sum(axis=0)\n",
    "    B1 = B1**(1/2)\n",
    "    B1 = B1.reshape(-1,1)\n",
    "    C = A1*B1\n",
    "    return K/C\n",
    "    \n",
    "    "
   ]
  },
  {
   "cell_type": "code",
   "execution_count": 202,
   "metadata": {},
   "outputs": [
    {
     "data": {
      "text/plain": [
       "tensor([[0.9723, 3.1146, 0.8778],\n",
       "        [0.2234, 0.8380, 0.2057],\n",
       "        [0.7503, 1.9757, 0.8044]])"
      ]
     },
     "execution_count": 202,
     "metadata": {},
     "output_type": "execute_result"
    }
   ],
   "source": [
    "get_cos_sim(A,B)"
   ]
  },
  {
   "cell_type": "code",
   "execution_count": null,
   "metadata": {},
   "outputs": [],
   "source": []
  }
 ],
 "metadata": {
  "kernelspec": {
   "display_name": "Python 3",
   "language": "python",
   "name": "python3"
  },
  "language_info": {
   "codemirror_mode": {
    "name": "ipython",
    "version": 3
   },
   "file_extension": ".py",
   "mimetype": "text/x-python",
   "name": "python",
   "nbconvert_exporter": "python",
   "pygments_lexer": "ipython3",
   "version": "3.8.5"
  }
 },
 "nbformat": 4,
 "nbformat_minor": 4
}
