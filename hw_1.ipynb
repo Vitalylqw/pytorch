{
 "cells": [
  {
   "cell_type": "code",
   "execution_count": 20,
   "metadata": {},
   "outputs": [],
   "source": [
    "import numpy as np\n",
    "import torch\n",
    "from torch import nn\n",
    "from torch import optim\n",
    "import torchvision.transforms as transforms\n",
    "import matplotlib.pyplot as plt ### воспользуемся для отображения изображения\n",
    "import torchvision\n",
    "import torch.nn.functional as F"
   ]
  },
  {
   "cell_type": "markdown",
   "metadata": {},
   "source": [
    "1.\tНахождение сложной производной.\n",
    "Найдите производную по x от функции:\n",
    " \n",
    "При этом надо пользоваться встроенным в PyTorch autograd.\n",
    "\n"
   ]
  },
  {
   "cell_type": "code",
   "execution_count": 136,
   "metadata": {},
   "outputs": [],
   "source": [
    "def f(x,y):\n",
    "    c = np.exp(3-x**2)\n",
    "    g = x**2*np.exp(x**9)\n",
    "    m1 = np.tan(x)* x**2/y\n",
    "    m2= np.log(c + x**3*y)\n",
    "    m3 = np.tan(g) \n",
    "    return np.sin(m1+m2)*m3"
   ]
  },
  {
   "cell_type": "code",
   "execution_count": 137,
   "metadata": {},
   "outputs": [
    {
     "data": {
      "text/plain": [
       "0.012011480952420241"
      ]
     },
     "execution_count": 137,
     "metadata": {},
     "output_type": "execute_result"
    }
   ],
   "source": [
    "f(0.5,0.4)"
   ]
  },
  {
   "cell_type": "code",
   "execution_count": 138,
   "metadata": {},
   "outputs": [],
   "source": [
    "def find_x_derivative(x, y):\n",
    "    a=torch.FloatTensor([float(x)])\n",
    "    a.requires_grad = True\n",
    "    b = torch.FloatTensor([float(y)])\n",
    "    c = torch.exp(3-a**2)\n",
    "    g = a**2*torch.exp(a**9)\n",
    "    m1 = torch.tan(a)* a**2/b\n",
    "    m2= torch.log(c + a**3*b)\n",
    "    m3 = torch.tan(g) \n",
    "    L = torch.sin(m1+m2)*m3\n",
    "    L.backward()\n",
    "    return a.grad"
   ]
  },
  {
   "cell_type": "code",
   "execution_count": 139,
   "metadata": {},
   "outputs": [
    {
     "data": {
      "text/plain": [
       "tensor([-0.2560])"
      ]
     },
     "execution_count": 139,
     "metadata": {},
     "output_type": "execute_result"
    }
   ],
   "source": [
    "find_x_derivative(0.5,0.4)"
   ]
  },
  {
   "cell_type": "code",
   "execution_count": null,
   "metadata": {},
   "outputs": [],
   "source": []
  },
  {
   "cell_type": "markdown",
   "metadata": {},
   "source": [
    "\n",
    "2.\tНахождение косинусной близости\n",
    "Вам даны две матрицы A и B. Необходимо посчитать косинусную близость между строчками матрицы A и столбцами матрицы B. Ответ - матрица чисел, где номер строки - номер строки из матрицы А, а номер столбца - номер столбца из В, от которых бралась косинусная близость.\n",
    "Напомним, что косинусная близость двух векторов - косинус угла между ними. В n-мерном пространстве косинус угла между векторами удобнее всего через скалярное произведение:\n"
   ]
  },
  {
   "cell_type": "code",
   "execution_count": 188,
   "metadata": {},
   "outputs": [],
   "source": [
    "A = torch.randint(10,(3,3))\n",
    "B = torch.randint(10,(3,3))"
   ]
  },
  {
   "cell_type": "code",
   "execution_count": 203,
   "metadata": {},
   "outputs": [
    {
     "data": {
      "text/plain": [
       "(tensor([[8, 6, 3],\n",
       "         [1, 3, 0],\n",
       "         [7, 1, 6]]),\n",
       " tensor([[7, 7, 3],\n",
       "         [5, 6, 5],\n",
       "         [5, 2, 9]]))"
      ]
     },
     "execution_count": 203,
     "metadata": {},
     "output_type": "execute_result"
    }
   ],
   "source": [
    "A,B"
   ]
  },
  {
   "cell_type": "code",
   "execution_count": 201,
   "metadata": {},
   "outputs": [],
   "source": [
    "def get_cos_sim(A, B):\n",
    "    K = A@B\n",
    "    A1 = A**2\n",
    "    A1 = A1.sum(axis=1)\n",
    "    A1 = A1**(1/2)\n",
    "    B1 = B**2\n",
    "    B1 = B1.sum(axis=0)\n",
    "    B1 = B1**(1/2)\n",
    "    B1 = B1.reshape(-1,1)\n",
    "    C = A1*B1\n",
    "    return K/C\n",
    "    \n",
    "    "
   ]
  },
  {
   "cell_type": "code",
   "execution_count": 202,
   "metadata": {},
   "outputs": [
    {
     "data": {
      "text/plain": [
       "tensor([[0.9723, 3.1146, 0.8778],\n",
       "        [0.2234, 0.8380, 0.2057],\n",
       "        [0.7503, 1.9757, 0.8044]])"
      ]
     },
     "execution_count": 202,
     "metadata": {},
     "output_type": "execute_result"
    }
   ],
   "source": [
    "get_cos_sim(A,B)"
   ]
  },
  {
   "cell_type": "code",
   "execution_count": null,
   "metadata": {},
   "outputs": [],
   "source": []
  },
  {
   "cell_type": "markdown",
   "metadata": {},
   "source": [
    "Взять датасет Fashion-Mnist, построить свою нейронную сеть cо сверточными слоями и обучить эту нейронную сеть пользуясь материалами из вебинара. \n",
    "Архитектура нейронной сети должна быть следующая:\n",
    "1)\tСначала должны идти два блока в которых должны присутствовать следующие слои:\n",
    "a)\tдва подряд идущие сверточных слоя(после каждого сверточного слоя идет активация Relu)\n",
    "b)\tИ в конце каждого блока слой макс пулинга\n",
    "2)\tв конце должны идти 3 линейных слоя.\n",
    "При этом можете поиграться с разными оптимизаторами.\n",
    "В качестве результата прошу приложить скрин с картинками и предсказанными классами.\n"
   ]
  },
  {
   "cell_type": "code",
   "execution_count": 86,
   "metadata": {},
   "outputs": [],
   "source": [
    "train_dataset = torchvision.datasets.FashionMNIST(root='./data/',\n",
    "                                             train=True,  \n",
    "                                             transform=transforms.ToTensor(), \n",
    "                                             download=True)\n",
    "test_dataset = torchvision.datasets.FashionMNIST(root='./data',\n",
    "                                             train=False,\n",
    "                                             transform=transforms.ToTensor(),\n",
    "                                             download=True\n",
    "                                            )"
   ]
  },
  {
   "cell_type": "code",
   "execution_count": 87,
   "metadata": {},
   "outputs": [],
   "source": [
    "train_loader = torch.utils.data.DataLoader(dataset=train_dataset,\n",
    "                                           batch_size=64, \n",
    "                                           shuffle=True)\n",
    "test_loader = torch.utils.data.DataLoader(test_dataset, batch_size=4,\n",
    "                                           shuffle=False)"
   ]
  },
  {
   "cell_type": "code",
   "execution_count": 88,
   "metadata": {},
   "outputs": [
    {
     "name": "stdout",
     "output_type": "stream",
     "text": [
      "torch.Size([1, 28, 28])\n",
      "2\n"
     ]
    }
   ],
   "source": [
    "image, label = train_dataset[5]\n",
    "print (image.size())\n",
    "print (label)"
   ]
  },
  {
   "cell_type": "code",
   "execution_count": 89,
   "metadata": {},
   "outputs": [
    {
     "data": {
      "text/plain": [
       "<matplotlib.image.AxesImage at 0x22e956ee520>"
      ]
     },
     "execution_count": 89,
     "metadata": {},
     "output_type": "execute_result"
    },
    {
     "data": {
      "image/png": "[encoded data removed]",
      "text/plain": [
       "<Figure size 432x288 with 1 Axes>"
      ]
     },
     "metadata": {
      "needs_background": "light"
     },
     "output_type": "display_data"
    }
   ],
   "source": [
    "plt.imshow(image.permute(1, 2, 0).numpy())"
   ]
  },
  {
   "cell_type": "code",
   "execution_count": 90,
   "metadata": {},
   "outputs": [],
   "source": [
    "classes =train_dataset.classes"
   ]
  },
  {
   "cell_type": "code",
   "execution_count": 91,
   "metadata": {},
   "outputs": [
    {
     "name": "stdout",
     "output_type": "stream",
     "text": [
      "<class 'list'>\n"
     ]
    },
    {
     "data": {
      "text/plain": [
       "['T-shirt/top',\n",
       " 'Trouser',\n",
       " 'Pullover',\n",
       " 'Dress',\n",
       " 'Coat',\n",
       " 'Sandal',\n",
       " 'Shirt',\n",
       " 'Sneaker',\n",
       " 'Bag',\n",
       " 'Ankle boot']"
      ]
     },
     "execution_count": 91,
     "metadata": {},
     "output_type": "execute_result"
    }
   ],
   "source": [
    "print(type(classes))\n",
    "classes"
   ]
  },
  {
   "cell_type": "code",
   "execution_count": 92,
   "metadata": {},
   "outputs": [],
   "source": [
    "class Net(nn.Module):\n",
    "    def __init__(self):\n",
    "        super().__init__()\n",
    "        self.conv1 = nn.Conv2d(in_channels =1, out_channels = 32,\n",
    "                               kernel_size = 4,stride = 1,padding = 4,padding_mode ='zeros')\n",
    "        \n",
    "        self.pool = nn.MaxPool2d(kernel_size = 6, stride =2)\n",
    "        \n",
    "        self.conv2 = nn.Conv2d(in_channels =32, out_channels = 64,\n",
    "                               kernel_size = 4,stride = 1,padding = 4,padding_mode ='zeros')\n",
    "        \n",
    "        self.fc1 = nn.Linear(64 * 7 * 7, 256)\n",
    "        self.fc2 = nn.Linear(256, 128)\n",
    "        self.fc3 = nn.Linear(128, 10)\n",
    "\n",
    "    def forward(self, x):\n",
    "        x = self.pool(F.relu(self.conv1(x)))\n",
    "        x = self.pool(F.relu(self.conv2(x)))\n",
    "        x = x.view(-1, 64 * 7 * 7)\n",
    "        x = F.relu(self.fc1(x))\n",
    "        x = F.relu(self.fc2(x))\n",
    "        x = F.softmax(self.fc3(x),dim = 0)\n",
    "        return x\n",
    "\n",
    "\n",
    "# net = Net()\n",
    "net = Net().to('cuda:0')"
   ]
  },
  {
   "cell_type": "code",
   "execution_count": 93,
   "metadata": {},
   "outputs": [],
   "source": [
    "criterion = nn.CrossEntropyLoss()\n",
    "optimizer = optim.Adam(net.parameters())"
   ]
  },
  {
   "cell_type": "code",
   "execution_count": 99,
   "metadata": {},
   "outputs": [
    {
     "name": "stdout",
     "output_type": "stream",
     "text": [
      "эпоха: 1 , итерация: 937, loss:2.030590057373047\n",
      "эпоха: 2 , итерация: 937, loss:2.033539056777954\n",
      "эпоха: 3 , итерация: 937, loss:2.0647432804107666\n",
      "эпоха: 4 , итерация: 937, loss:2.074030637741089\n",
      "эпоха: 5 , итерация: 937, loss:2.034303903579712\n",
      "эпоха: 6 , итерация: 937, loss:2.033029794692993\n",
      "эпоха: 7 , итерация: 937, loss:2.0346641540527344\n",
      "эпоха: 8 , итерация: 937, loss:2.065670967102051\n",
      "эпоха: 9 , итерация: 937, loss:2.065124273300171\n",
      "эпоха: 10 , итерация: 937, loss:2.0439505577087402\n",
      "эпоха: 11 , итерация: 937, loss:2.034409523010254\n",
      "эпоха: 12 , итерация: 937, loss:2.030916929244995\n",
      "эпоха: 13 , итерация: 937, loss:2.0336761474609375\n",
      "эпоха: 14 , итерация: 937, loss:2.094564437866211\n",
      "эпоха: 15 , итерация: 937, loss:2.062500476837158\n",
      "эпоха: 16 , итерация: 937, loss:2.033609390258789\n",
      "эпоха: 17 , итерация: 937, loss:2.0323991775512695\n",
      "эпоха: 18 , итерация: 937, loss:2.093494176864624\n",
      "эпоха: 19 , итерация: 937, loss:2.0333211421966553\n",
      "эпоха: 20 , итерация: 937, loss:2.0351152420043945\n",
      "Training is finished!\n"
     ]
    }
   ],
   "source": [
    "net.train()\n",
    "epochs=20\n",
    "for epoch in range(epochs):  \n",
    "    for i, data in enumerate(train_loader):\n",
    "        inputs, labels = data[0], data[1]\n",
    "        inputs, labels = inputs.cuda(), labels.cuda()\n",
    "\n",
    "        # обнуляем градиент\n",
    "        optimizer.zero_grad()\n",
    "\n",
    "        outputs = net(inputs)\n",
    "        loss = criterion(outputs, labels)\n",
    "        loss.backward()\n",
    "        optimizer.step()\n",
    "\n",
    "    print(f'эпоха: {epoch + 1} , итерация: {i}, loss:{loss}')\n",
    "\n",
    "print('Training is finished!')"
   ]
  },
  {
   "cell_type": "code",
   "execution_count": 100,
   "metadata": {},
   "outputs": [],
   "source": [
    "PATH = './fashion.pth'\n",
    "torch.save(net.state_dict(), PATH)"
   ]
  },
  {
   "cell_type": "code",
   "execution_count": 101,
   "metadata": {},
   "outputs": [
    {
     "data": {
      "text/plain": [
       "<All keys matched successfully>"
      ]
     },
     "execution_count": 101,
     "metadata": {},
     "output_type": "execute_result"
    }
   ],
   "source": [
    "net = Net()\n",
    "net.load_state_dict(torch.load(PATH))"
   ]
  },
  {
   "cell_type": "code",
   "execution_count": 102,
   "metadata": {},
   "outputs": [],
   "source": [
    "test_iter = iter(test_loader)\n",
    "images, labels = test_iter.next()"
   ]
  },
  {
   "cell_type": "code",
   "execution_count": 120,
   "metadata": {},
   "outputs": [
    {
     "name": "stdout",
     "output_type": "stream",
     "text": [
      "true\n",
      "['Ankle boot', 'Pullover', 'Trouser', 'Trouser']\n",
      "predict\n",
      "['Ankle boot', 'Pullover', 'Trouser', 'Trouser']\n"
     ]
    },
    {
     "data": {
      "image/png": "[encoded data removed]",
      "text/plain": [
       "<Figure size 432x288 with 1 Axes>"
      ]
     },
     "metadata": {
      "needs_background": "light"
     },
     "output_type": "display_data"
    }
   ],
   "source": [
    "outputs = net(images)\n",
    "_,predict = torch.max(outputs,axis=1)\n",
    "imgs = torchvision.utils.make_grid(images)\n",
    "plt.imshow(imgs.permute(1, 2, 0).numpy())\n",
    "print('true')\n",
    "print([ classes[j] for j in labels])\n",
    "print('predict')\n",
    "print([ classes[j] for j in predict])"
   ]
  },
  {
   "cell_type": "code",
   "execution_count": 119,
   "metadata": {},
   "outputs": [],
   "source": [
    "_,predict = torch.max(outputs,axis=1)"
   ]
  },
  {
   "cell_type": "code",
   "execution_count": 112,
   "metadata": {},
   "outputs": [
    {
     "data": {
      "text/plain": [
       "tensor([[3.9386e-09, 6.5447e-18, 5.8723e-21, 5.9646e-01, 9.9976e-01, 2.1022e-08,\n",
       "         9.9823e-01, 9.9971e-01, 6.8140e-09, 1.0000e+00],\n",
       "        [9.5675e-01, 1.9869e-09, 1.0000e+00, 4.0354e-01, 2.4410e-04, 9.9996e-01,\n",
       "         1.8861e-11, 2.8032e-04, 7.3282e-01, 3.8384e-11],\n",
       "        [3.6858e-02, 4.7885e-01, 1.6653e-14, 4.6738e-11, 6.7220e-08, 2.5768e-05,\n",
       "         5.3692e-04, 7.2645e-06, 3.3392e-02, 6.1368e-25],\n",
       "        [6.3906e-03, 5.2115e-01, 8.4992e-13, 4.0827e-11, 3.2872e-09, 1.1156e-05,\n",
       "         1.2340e-03, 1.9205e-06, 2.3379e-01, 2.7475e-25]],\n",
       "       grad_fn=<SoftmaxBackward>)"
      ]
     },
     "execution_count": 112,
     "metadata": {},
     "output_type": "execute_result"
    }
   ],
   "source": [
    "outputs"
   ]
  },
  {
   "cell_type": "code",
   "execution_count": null,
   "metadata": {},
   "outputs": [],
   "source": []
  }
 ],
 "metadata": {
  "kernelspec": {
   "display_name": "Python 3",
   "language": "python",
   "name": "python3"
  },
  "language_info": {
   "codemirror_mode": {
    "name": "ipython",
    "version": 3
   },
   "file_extension": ".py",
   "mimetype": "text/x-python",
   "name": "python",
   "nbconvert_exporter": "python",
   "pygments_lexer": "ipython3",
   "version": "3.8.5"
  }
 },
 "nbformat": 4,
 "nbformat_minor": 4
}
